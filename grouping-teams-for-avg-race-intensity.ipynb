{
 "cells": [
  {
   "cell_type": "code",
   "execution_count": 1,
   "id": "7d91a9b4-d648-4d1b-981e-e6e8dad3fbc2",
   "metadata": {},
   "outputs": [],
   "source": [
    "import fastf1\n",
    "import matplotlib.pyplot as plt\n",
    "import pandas as pd\n",
    "import numpy as np"
   ]
  },
  {
   "cell_type": "code",
   "execution_count": 2,
   "id": "c6eb239b-a546-4b11-a108-653deb48c14b",
   "metadata": {},
   "outputs": [
    {
     "name": "stdin",
     "output_type": "stream",
     "text": [
      "Enter Race Location :  Monaco\n",
      "Enter year :  2021\n"
     ]
    }
   ],
   "source": [
    "# y,x=[],[]\n",
    "# for index,row in sched.iterrows():\n",
    "#     session = fastf1.get_session(2024, row[\"Location\"], 'R')\n",
    "#     session.load()\n",
    "#     sesr=session.results \n",
    "#     sesr[\"Intensity\"]=sesr[\"GridPosition\"]-sesr[\"Position\"]\n",
    "#     y.append(sesr[\"Intensity\"].max())\n",
    "#     print(y[-1],\"----------------------------------------------------\")\n",
    "#     x.append(row[\"Location\"])\n",
    "location=input(\"Enter Race Location : \")\n",
    "year=int(input(\"Enter year : \"))"
   ]
  },
  {
   "cell_type": "code",
   "execution_count": 3,
   "id": "7fd1c55e-57af-4d3b-839e-fbfcc60b8a05",
   "metadata": {},
   "outputs": [
    {
     "name": "stderr",
     "output_type": "stream",
     "text": [
      "req         WARNING \tDEFAULT CACHE ENABLED! (264.13 MB) C:\\Users\\GouriAmit\\AppData\\Local\\Temp\\fastf1\n",
      "core           INFO \tLoading data for Monaco Grand Prix - Race [v3.5.3]\n",
      "req            INFO \tUsing cached data for session_info\n",
      "req            INFO \tUsing cached data for driver_info\n",
      "req            INFO \tUsing cached data for session_status_data\n",
      "req            INFO \tUsing cached data for lap_count\n",
      "req            INFO \tUsing cached data for track_status_data\n",
      "req            INFO \tUsing cached data for _extended_timing_data\n",
      "req            INFO \tUsing cached data for timing_app_data\n",
      "core           INFO \tProcessing timing data...\n",
      "req            INFO \tNo cached data found for car_data. Loading data...\n",
      "_api           INFO \tFetching car data...\n",
      "_api           INFO \tParsing car data...\n",
      "req            INFO \tData has been written to cache!\n",
      "req            INFO \tNo cached data found for position_data. Loading data...\n",
      "_api           INFO \tFetching position data...\n",
      "_api           INFO \tParsing position data...\n",
      "req            INFO \tData has been written to cache!\n",
      "req            INFO \tNo cached data found for weather_data. Loading data...\n",
      "_api           INFO \tFetching weather data...\n",
      "req            INFO \tData has been written to cache!\n",
      "req            INFO \tNo cached data found for race_control_messages. Loading data...\n",
      "_api           INFO \tFetching race control messages...\n",
      "req            INFO \tData has been written to cache!\n",
      "core        WARNING \tDriver 33 completed the race distance 00:00.058000 before the recorded end of the session.\n",
      "core           INFO \tFinished loading data for 20 drivers: ['33', '55', '4', '11', '5', '10', '44', '18', '31', '99', '7', '3', '14', '63', '6', '22', '9', '47', '77', '16']\n"
     ]
    }
   ],
   "source": [
    "session = fastf1.get_session(year, location, 'R')\n",
    "session.load()\n",
    "sesr=session.results \n",
    "# print(sesr)\n",
    "sesr[\"Intensity\"]=sesr[\"GridPosition\"]-sesr[\"Position\"]\n",
    "grouped=sesr.groupby(\"TeamId\")[\"Intensity\"].mean()\n"
   ]
  },
  {
   "cell_type": "code",
   "execution_count": 4,
   "id": "8168f743-fc94-4475-ac52-bf6796d9d91b",
   "metadata": {},
   "outputs": [
    {
     "data": {
      "text/plain": [
       "TeamId\n",
       "alfa            1.5\n",
       "alphatauri      0.0\n",
       "alpine          3.0\n",
       "aston_martin    4.0\n",
       "ferrari        -8.5\n",
       "haas            2.0\n",
       "mclaren         1.0\n",
       "mercedes       -8.0\n",
       "red_bull        3.0\n",
       "williams        2.0\n",
       "Name: Intensity, dtype: float64"
      ]
     },
     "execution_count": 4,
     "metadata": {},
     "output_type": "execute_result"
    }
   ],
   "source": [
    "grouped"
   ]
  },
  {
   "cell_type": "code",
   "execution_count": 5,
   "id": "42fb8c4e-d73b-41cc-8cda-e93317b549e1",
   "metadata": {},
   "outputs": [
    {
     "data": {
      "image/png": "[encoded data removed]",
      "text/plain": [
       "<Figure size 640x480 with 1 Axes>"
      ]
     },
     "metadata": {},
     "output_type": "display_data"
    }
   ],
   "source": [
    "x=grouped.index\n",
    "y=grouped.values\n",
    "#learnt about the index and values methods\n",
    "plt.bar(x,y)\n",
    "plt.xticks(rotation=45)\n",
    "plt.xlabel(\"Team\")\n",
    "plt.ylabel(\"Avg Intensity\")\n",
    "plt.title(\"Avg intensity of a Team in a race\")\n",
    "plt.tight_layout()\n",
    "plt.savefig(f\"{location}_team_intensity_avg.png\")\n",
    "plt.show()"
   ]
  },
  {
   "cell_type": "code",
   "execution_count": null,
   "id": "eb2706dc-69f0-4064-b3a5-93775239cb82",
   "metadata": {},
   "outputs": [],
   "source": []
  }
 ],
 "metadata": {
  "kernelspec": {
   "display_name": "Python 3 (ipykernel)",
   "language": "python",
   "name": "python3"
  },
  "language_info": {
   "codemirror_mode": {
    "name": "ipython",
    "version": 3
   },
   "file_extension": ".py",
   "mimetype": "text/x-python",
   "name": "python",
   "nbconvert_exporter": "python",
   "pygments_lexer": "ipython3",
   "version": "3.13.1"
  }
 },
 "nbformat": 4,
 "nbformat_minor": 5
}
